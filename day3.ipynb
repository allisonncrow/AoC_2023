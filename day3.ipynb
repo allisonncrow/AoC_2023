{
 "cells": [
  {
   "cell_type": "code",
   "execution_count": 136,
   "id": "d25dcec9-171f-401e-af8a-86533ee57305",
   "metadata": {},
   "outputs": [
    {
     "name": "stdout",
     "output_type": "stream",
     "text": [
      "528819\n"
     ]
    }
   ],
   "source": [
    "import re\n",
    "f = open(\"/home/ancrow/code/advent_of_code/day3/input.txt\", \"r\")\n",
    "\n",
    "prev_line = ''\n",
    "engine_schematic = 0\n",
    "for line in f:\n",
    "    adj_this_line = adj_next_line\n",
    "    adj_next_line = []\n",
    "    symbol = re.finditer(r'[^0-9| .|\\n ]', line)\n",
    "    for match_obj in symbol:\n",
    "        start = match_obj.start()\n",
    "        end = match_obj.end()\n",
    "        adj_this_line.append(start - 1)\n",
    "        adj_this_line.append(start)\n",
    "        adj_this_line.append(start + 1)\n",
    "        adj_prev_line.append(start - 1)\n",
    "        adj_prev_line.append(start)\n",
    "        adj_prev_line.append(start + 1)\n",
    "        adj_next_line.append(start - 1)\n",
    "        adj_next_line.append(start)\n",
    "        adj_next_line.append(start + 1)\n",
    "    x = re.finditer('\\d+', line)\n",
    "    prev_match = re.finditer('\\d+', prev_line)\n",
    "    for match_obj in x:\n",
    "        start = match_obj.start()\n",
    "        end = match_obj.end()\n",
    "        for i in range(start, end):\n",
    "            if i in adj_this_line or i in adj_next_line:\n",
    "                engine_schematic = engine_schematic + int(match_obj.group())\n",
    "                break\n",
    "    for match_obj in prev_match:\n",
    "        start = match_obj.start()\n",
    "        end = match_obj.end()\n",
    "        for i in range(start, end):\n",
    "            if i in adj_prev_line:\n",
    "                engine_schematic = engine_schematic + int(match_obj.group())\n",
    "                break\n",
    "    prev_line = line\n",
    "    adj_prev_line = []\n",
    "print(engine_schematic)\n",
    "\n",
    "    \n"
   ]
  },
  {
   "cell_type": "code",
   "execution_count": 137,
   "id": "5ae74db7-b694-4ab3-bd89-91849f5a27ae",
   "metadata": {},
   "outputs": [
    {
     "name": "stdout",
     "output_type": "stream",
     "text": [
      "80403602\n"
     ]
    }
   ],
   "source": [
    "import re\n",
    "f = open(\"/home/ancrow/code/advent_of_code/day3/input.txt\", \"r\")\n",
    "\n",
    "content = f.readlines() \n",
    "\n",
    "prev_line = ''\n",
    "gear_ratio = 0\n",
    "for index,line in enumerate(content):\n",
    "    symbol = re.finditer(r'[^0-9| .|\\n ]', line)\n",
    "    for sym in symbol:\n",
    "        adj_this_line = []\n",
    "        adj_next_line = []\n",
    "        num_adj = []\n",
    "        start = sym.start()\n",
    "        end = sym.end()\n",
    "        adj_this_line.append(start - 1)\n",
    "        adj_this_line.append(start + 1)\n",
    "        adj_prev_line.append(start - 1)\n",
    "        adj_prev_line.append(start)\n",
    "        adj_prev_line.append(start + 1)\n",
    "        adj_next_line.append(start - 1)\n",
    "        adj_next_line.append(start)\n",
    "        adj_next_line.append(start + 1)\n",
    "        x = re.finditer('\\d+', line)\n",
    "        prev_match = re.finditer('\\d+', content[index-1])\n",
    "        next_match = re.finditer('\\d+', content[index+1])\n",
    "        for match_obj in x:\n",
    "            start = match_obj.start()\n",
    "            end = match_obj.end()\n",
    "            for i in range(start, end):\n",
    "                if i in adj_this_line:\n",
    "                    num_adj.append(int(match_obj.group()))\n",
    "                    if len(num_adj) == 2:\n",
    "                        gear_ratio += num_adj[0] * num_adj[1]\n",
    "                        break\n",
    "                    break\n",
    "        for match_obj in prev_match:\n",
    "            start = match_obj.start()\n",
    "            end = match_obj.end()\n",
    "            for i in range(start, end):\n",
    "                if i in adj_prev_line:\n",
    "                    num_adj.append(int(match_obj.group()))\n",
    "                    if len(num_adj) == 2:\n",
    "                        gear_ratio += num_adj[0] * num_adj[1]\n",
    "                        break\n",
    "                    break\n",
    "        for match_obj in next_match:\n",
    "            start = match_obj.start()\n",
    "            end = match_obj.end()\n",
    "            for i in range(start, end):\n",
    "                if i in adj_next_line:\n",
    "                    num_adj.append(int(match_obj.group()))\n",
    "                    if len(num_adj) == 2:\n",
    "                        gear_ratio += num_adj[0] * num_adj[1]\n",
    "                        break\n",
    "                    break\n",
    "        adj_prev_line = []\n",
    "    prev_line = line\n",
    "print(gear_ratio)\n",
    "\n",
    "\n",
    "    \n",
    "    # for match_obj in symbol:\n",
    "    #     print(match_obj)\n",
    "    #     print(match_obj.group)\n",
    "    \n",
    "\n",
    "    \n"
   ]
  },
  {
   "cell_type": "code",
   "execution_count": null,
   "id": "e0dfa9f0-026d-458a-b48e-ad27f5e5e513",
   "metadata": {},
   "outputs": [],
   "source": [
    "#tried: 109406597"
   ]
  }
 ],
 "metadata": {
  "kernelspec": {
   "display_name": "Python 3 (ipykernel)",
   "language": "python",
   "name": "python3"
  },
  "language_info": {
   "codemirror_mode": {
    "name": "ipython",
    "version": 3
   },
   "file_extension": ".py",
   "mimetype": "text/x-python",
   "name": "python",
   "nbconvert_exporter": "python",
   "pygments_lexer": "ipython3",
   "version": "3.8.10"
  }
 },
 "nbformat": 4,
 "nbformat_minor": 5
}
