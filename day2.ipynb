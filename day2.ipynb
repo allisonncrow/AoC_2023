{
 "cells": [
  {
   "cell_type": "code",
   "execution_count": 16,
   "id": "b22fb5a2-a74f-490d-8f4b-b68c63b36528",
   "metadata": {},
   "outputs": [
    {
     "name": "stdout",
     "output_type": "stream",
     "text": [
      "2348\n"
     ]
    }
   ],
   "source": [
    "import re\n",
    "f = open(\"/home/ancrow/code/advent_of_code/day2/input.txt\", \"r\")\n",
    "\n",
    "red = 12\n",
    "green = 13\n",
    "blue = 14\n",
    "sum = 0\n",
    "\n",
    "def check_possible(color, draw):\n",
    "    possible = True\n",
    "    num_color = re.findall(\"\\d\", draw[0])\n",
    "    res = ''.join(ele for ele in num_color)\n",
    "    num = int(res)\n",
    "    if (color == \"red\" and num > red) or (color == \"green\" and num > green) or (color == \"blue\" and num > blue):\n",
    "        possible = False\n",
    "    return possible\n",
    "        \n",
    "for line in f:\n",
    "    line_id = int((line.split(\" \")[1]).split(\":\")[0])\n",
    "    line_possible = True\n",
    "    red_possible = True\n",
    "    green_possible = True\n",
    "    blue_possible = True\n",
    "    games = (line.split(\":\")[1]).split(\";\")\n",
    "    for game in games:\n",
    "        game_possible = True\n",
    "        red_draw = re.findall(\"[0-9]* red\", game)\n",
    "        if red_draw:\n",
    "            red_possible = check_possible(\"red\", red_draw)\n",
    "        green_draw = re.findall(\"[0-9]* green\", game)\n",
    "        if green_draw:\n",
    "            green_possible = check_possible(\"green\", green_draw)\n",
    "        blue_draw = re.findall(\"[0-9]* blue\", game)\n",
    "        if blue_draw:\n",
    "            blue_possible = check_possible(\"blue\", blue_draw)\n",
    "        game_possible = blue_possible and green_possible and red_possible\n",
    "        if line_possible:\n",
    "            line_possible = game_possible\n",
    "    if line_possible:\n",
    "        sum = sum + line_id\n",
    "        # print(line_id)\n",
    "print(sum)\n",
    "        \n"
   ]
  },
  {
   "cell_type": "code",
   "execution_count": null,
   "id": "2e8cce73-bf4c-4df8-b768-bcd3e2239ad8",
   "metadata": {},
   "outputs": [],
   "source": [
    "#answers tried: 3620, 2429"
   ]
  },
  {
   "cell_type": "code",
   "execution_count": 44,
   "id": "20cbeb6c-1b80-4236-8822-0ea3200457d1",
   "metadata": {},
   "outputs": [
    {
     "name": "stdout",
     "output_type": "stream",
     "text": [
      "76008\n"
     ]
    }
   ],
   "source": [
    "import re\n",
    "f = open(\"/home/ancrow/code/advent_of_code/day2/input.txt\", \"r\")\n",
    "\n",
    "red = 12\n",
    "green = 13\n",
    "blue = 14\n",
    "sum = 0\n",
    "\n",
    "fewest_red = 0\n",
    "fewest_green = 0\n",
    "fewest_blue = 0\n",
    "\n",
    "def find_num(color, draw):\n",
    "    num_color = re.findall(\"\\d\", draw[0])\n",
    "    res = ''.join(ele for ele in num_color)\n",
    "    num = int(res)\n",
    "    return num\n",
    "        \n",
    "for line in f:\n",
    "    line_id = int((line.split(\" \")[1]).split(\":\")[0])\n",
    "    games = (line.split(\":\")[1]).split(\";\")\n",
    "    fewest_red = 0\n",
    "    fewest_green = 0\n",
    "    fewest_blue = 0\n",
    "    for game in games:\n",
    "        red_draw = re.findall(\"[0-9]* red\", game)\n",
    "        if red_draw:\n",
    "            red_num = find_num(\"red\", red_draw)\n",
    "        green_draw = re.findall(\"[0-9]* green\", game)\n",
    "        if green_draw:\n",
    "            green_num = find_num(\"green\", green_draw)\n",
    "        blue_draw = re.findall(\"[0-9]* blue\", game)\n",
    "        if blue_draw:\n",
    "            blue_num = find_num(\"blue\", blue_draw)\n",
    "        if blue_num > fewest_blue:\n",
    "            fewest_blue = blue_num\n",
    "        if green_num > fewest_green:\n",
    "            fewest_green = green_num\n",
    "        if red_num > fewest_red:\n",
    "            fewest_red = red_num\n",
    "        green_num = 0\n",
    "        red_num = 0\n",
    "        blue_num = 0\n",
    "    power = fewest_red * fewest_green * fewest_blue\n",
    "    # print(fewest_red)\n",
    "    # print(fewest_green)\n",
    "    # print(fewest_blue)\n",
    "    # print(power)\n",
    "    sum = sum + power\n",
    "print(sum)\n",
    "        \n"
   ]
  },
  {
   "cell_type": "code",
   "execution_count": null,
   "id": "4e2cbe9c-ca21-49d4-ae15-b79b116e844f",
   "metadata": {},
   "outputs": [],
   "source": [
    "#84294"
   ]
  }
 ],
 "metadata": {
  "kernelspec": {
   "display_name": "Python 3 (ipykernel)",
   "language": "python",
   "name": "python3"
  },
  "language_info": {
   "codemirror_mode": {
    "name": "ipython",
    "version": 3
   },
   "file_extension": ".py",
   "mimetype": "text/x-python",
   "name": "python",
   "nbconvert_exporter": "python",
   "pygments_lexer": "ipython3",
   "version": "3.8.10"
  }
 },
 "nbformat": 4,
 "nbformat_minor": 5
}
