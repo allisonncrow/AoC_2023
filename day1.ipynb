{
 "cells": [
  {
   "cell_type": "code",
   "execution_count": 58,
   "id": "a8bbeeec-cc5d-495d-a5e5-77e2484d7873",
   "metadata": {},
   "outputs": [],
   "source": []
  },
  {
   "cell_type": "code",
   "execution_count": 2,
   "id": "cfb5cced-a66a-4121-99d4-851eee2e958a",
   "metadata": {},
   "outputs": [
    {
     "name": "stdout",
     "output_type": "stream",
     "text": [
      "54630\n"
     ]
    }
   ],
   "source": [
    "import re\n",
    "f = open(\"/home/ancrow/code/advent_of_code/day1/input.txt\", \"r\")\n",
    "\n",
    "counter = 0\n",
    "for line in f:\n",
    "    x = re.findall(\"\\d\", line)\n",
    "    val = (10*int(x[0])) + int(x[-1])\n",
    "    counter = counter + val\n",
    "print(counter)\n",
    "    "
   ]
  },
  {
   "cell_type": "code",
   "execution_count": 61,
   "id": "6f0b8f24-3aff-43fe-83b2-9578c69ed4eb",
   "metadata": {},
   "outputs": [
    {
     "name": "stdout",
     "output_type": "stream",
     "text": [
      "54770\n"
     ]
    }
   ],
   "source": [
    "import re\n",
    "f = open(\"/home/ancrow/code/advent_of_code/day1/input.txt\", \"r\")\n",
    "\n",
    "digit_dict = {\n",
    "    \"one\" : '1',\n",
    "    \"two\" : '2',\n",
    "    \"three\" : '3',\n",
    "    \"four\" : '4',\n",
    "    \"five\" : '5',\n",
    "    \"six\" : '6',\n",
    "    \"seven\" : '7',\n",
    "    \"eight\" : '8',\n",
    "    \"nine\" : '9',\n",
    "    \"1\" : '1',\n",
    "    \"2\" : '2',\n",
    "    \"3\" : '3',\n",
    "    \"4\" : '4',\n",
    "    \"5\" : '5',\n",
    "    \"6\" : '6',\n",
    "    \"7\" : '7',\n",
    "    \"8\" : '8',\n",
    "    \"9\" : '9',\n",
    "}\n",
    "\n",
    "counter = 0\n",
    "\n",
    "for line in f:\n",
    "    x = re.findall(\"(?=(one|two|three|four|five|six|seven|eight|nine|[0-9]))\", line)\n",
    "    res = ''.join(digit_dict[ele] for ele in x)\n",
    "    value = (10 * int(res[0])) + int(res[-1])\n",
    "    counter = counter + value\n",
    "print(counter)\n",
    "    \n",
    "\n"
   ]
  },
  {
   "cell_type": "code",
   "execution_count": null,
   "id": "859dfc16-e700-4d28-b24c-a1403cdb5e81",
   "metadata": {},
   "outputs": [],
   "source": []
  },
  {
   "cell_type": "code",
   "execution_count": null,
   "id": "2539bc57-0d2b-4e8a-bd3e-74352757da2f",
   "metadata": {},
   "outputs": [],
   "source": []
  }
 ],
 "metadata": {
  "kernelspec": {
   "display_name": "Python 3 (ipykernel)",
   "language": "python",
   "name": "python3"
  },
  "language_info": {
   "codemirror_mode": {
    "name": "ipython",
    "version": 3
   },
   "file_extension": ".py",
   "mimetype": "text/x-python",
   "name": "python",
   "nbconvert_exporter": "python",
   "pygments_lexer": "ipython3",
   "version": "3.8.10"
  }
 },
 "nbformat": 4,
 "nbformat_minor": 5
}
