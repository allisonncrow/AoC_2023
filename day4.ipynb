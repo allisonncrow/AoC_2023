{
 "cells": [
  {
   "cell_type": "code",
   "execution_count": 37,
   "id": "57c97cde-cb17-42ac-8aaf-de7d995d96e3",
   "metadata": {},
   "outputs": [
    {
     "name": "stdout",
     "output_type": "stream",
     "text": [
      "21485\n"
     ]
    }
   ],
   "source": [
    "import re\n",
    "f = open(\"/home/ancrow/code/advent_of_code/day4/input.txt\", \"r\")\n",
    "\n",
    "content = f.readlines() \n",
    "\n",
    "winning_numbers = []\n",
    "numbers_i_have = []\n",
    "total_score = 0\n",
    "for (index, line) in enumerate(content):\n",
    "    match_score = 0\n",
    "    winning_numbers_init = (((line.split(\":\")[1]).split(\"|\")[0]).strip()).split(\" \")\n",
    "    numbers_i_have = (((line.split(\":\")[1]).split(\"|\")[1]).strip()).split(\" \")\n",
    "\n",
    "    winning_numbers_init[:] = [int(x) for x in winning_numbers_init if x]\n",
    "    numbers_i_have[:] = [int(x) for x in numbers_i_have if x]\n",
    "\n",
    "    num_matches = 0\n",
    "    for i in numbers_i_have:\n",
    "        if i in winning_numbers_init:\n",
    "            num_matches+=1\n",
    "\n",
    "    if num_matches > 0:\n",
    "        match_score = 2**(num_matches - 1)\n",
    "\n",
    "    total_score +=match_score\n",
    "print(total_score)\n",
    "\n",
    "\n",
    "    \n"
   ]
  },
  {
   "cell_type": "code",
   "execution_count": null,
   "id": "7bb204e7-eb4a-4335-ad39-bbd3b0deb5cf",
   "metadata": {},
   "outputs": [],
   "source": [
    "import re\n",
    "f = open(\"/home/ancrow/code/advent_of_code/day4/input.txt\", \"r\")\n",
    "\n",
    "content = f.readlines() \n",
    "\n",
    "winning_numbers = []\n",
    "numbers_i_have = []\n",
    "total_score = 0\n",
    "card = 1\n",
    "total_cards = 0\n",
    "\n",
    "card_copies = {}\n",
    "for (index, line) in enumerate(content):\n",
    "    if card not in card_copies:\n",
    "        card_copies[card] = 1\n",
    "    for i in range(0, card_copies[card]):\n",
    "        winning_numbers_init = (((line.split(\":\")[1]).split(\"|\")[0]).strip()).split(\" \")\n",
    "        numbers_i_have = (((line.split(\":\")[1]).split(\"|\")[1]).strip()).split(\" \")\n",
    "    \n",
    "        winning_numbers_init[:] = [int(x) for x in winning_numbers_init if x]\n",
    "        numbers_i_have[:] = [int(x) for x in numbers_i_have if x]\n",
    "    \n",
    "        num_matches = 0\n",
    "        for i in numbers_i_have:\n",
    "            if i in winning_numbers_init:\n",
    "                num_matches+=1\n",
    "        # print(f\"num_matches is {num_matches}\")\n",
    "        if num_matches:\n",
    "            for new_card in range(card + 1, card + (num_matches+1)):\n",
    "                # print(f\"newcard is {new_card}\")\n",
    "                try:\n",
    "                    card_copies[new_card] +=1\n",
    "                except:\n",
    "                    card_copies[new_card] = 2\n",
    "                # print(f\"card copies of new_card is {card_copies[new_card]}\")\n",
    "\n",
    "        \n",
    "\n",
    "    total_cards += card_copies[card]\n",
    "    card+=1\n",
    "    \n",
    "print(total_cards)\n",
    "print(card_copies)"
   ]
  }
 ],
 "metadata": {
  "kernelspec": {
   "display_name": "Python 3 (ipykernel)",
   "language": "python",
   "name": "python3"
  },
  "language_info": {
   "codemirror_mode": {
    "name": "ipython",
    "version": 3
   },
   "file_extension": ".py",
   "mimetype": "text/x-python",
   "name": "python",
   "nbconvert_exporter": "python",
   "pygments_lexer": "ipython3",
   "version": "3.8.10"
  }
 },
 "nbformat": 4,
 "nbformat_minor": 5
}
